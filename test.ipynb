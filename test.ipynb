{
 "cells": [
  {
   "cell_type": "code",
   "execution_count": 2,
   "metadata": {},
   "outputs": [
    {
     "name": "stderr",
     "output_type": "stream",
     "text": [
      "/Users/mohit/Documents/Code/Data Engineering/langchain-qa-sta5635/venv/lib/python3.11/site-packages/pinecone/data/index.py:1: TqdmWarning: IProgress not found. Please update jupyter and ipywidgets. See https://ipywidgets.readthedocs.io/en/stable/user_install.html\n",
      "  from tqdm.autonotebook import tqdm\n"
     ]
    }
   ],
   "source": [
    "# All the import statements\n",
    "import os\n",
    "import re\n",
    "import unicodedata\n",
    "import cohere\n",
    "from dotenv import load_dotenv\n",
    "\n",
    "import pinecone as pc\n",
    "from langchain.document_loaders import PyPDFLoader\n",
    "from langchain_community.embeddings import CohereEmbeddings\n",
    "from langchain_community.vectorstores import Pinecone\n",
    "from langchain_core.output_parsers import StrOutputParser\n",
    "from langchain_openai import ChatOpenAI\n",
    "from langchain_core.runnables import RunnableParallel, RunnablePassthrough\n",
    "from langchain_core.prompts import ChatPromptTemplate\n",
    "from pinecone import Pinecone as PineconeClient"
   ]
  },
  {
   "cell_type": "code",
   "execution_count": 3,
   "metadata": {},
   "outputs": [],
   "source": [
    "# Loading all required clients \n",
    "load_dotenv()\n",
    "pinecone = PineconeClient(api_key=os.getenv('PINECONE_API_KEY'), environment=os.getenv('PINECONE_ENVIRONMENT'))\n",
    "co = cohere.Client(os.getenv(\"COHERE_API_KEY\"))\n",
    "index = pinecone.Index(os.getenv('PINECONE_INDEX_NAME'))"
   ]
  },
  {
   "cell_type": "code",
   "execution_count": 9,
   "metadata": {},
   "outputs": [],
   "source": [
    "# Extracting texts from pdfs\n",
    "\n",
    "# Reading pdfs\n",
    "def read_pdf(file_path):\n",
    "    loader = PyPDFLoader(file_path)\n",
    "    documents = loader.load_and_split()\n",
    "    return documents\n",
    "\n",
    "\n",
    "# Process pdfs\n",
    "def process_documents(documents):\n",
    "    doc_text = ''\n",
    "    for doc in documents:\n",
    "        text = doc.page_content\n",
    "        \n",
    "        # preprocess\n",
    "        text = clean_text(text)\n",
    "        doc_text += text\n",
    "    return doc_text\n",
    "\n",
    "# Preprocess the text\n",
    "def clean_text(text):\n",
    "    # Replace newline characters with spaces\n",
    "    text = text.replace('\\n', ' ')\n",
    "    # Remove unknown characters\n",
    "    text = ''.join(c for c in text if unicodedata.category(c) != 'Co')\n",
    "    # Remove extra whitespace\n",
    "    text = re.sub(r'\\s+', ' ', text).strip()\n",
    "    # Remove non-alphanumeric characters\n",
    "    text = re.sub(r'[^a-zA-Z0-9\\s]', '', text)\n",
    "    # Convert to lowercase\n",
    "    text = text.lower()\n",
    "    return text\n",
    "    \n",
    "\n",
    "\n",
    "# Load and process all PDF files in the the directory\n",
    "pdf_dir_path = \"pdfs/\"\n",
    "\n",
    "all_texts = []\n",
    "for filename in os.listdir(pdf_dir_path):\n",
    "    if filename.endswith(\".pdf\"):\n",
    "        file_path = os.path.join(pdf_dir_path, filename)\n",
    "        documents = read_pdf(file_path)\n",
    "        texts = process_documents(documents)\n",
    "        all_texts.append(texts)"
   ]
  },
  {
   "cell_type": "code",
   "execution_count": 10,
   "metadata": {},
   "outputs": [],
   "source": [
    "# Create embeddings\n",
    "def embed(text):\n",
    "    embeds = co.embed(\n",
    "        texts=text,\n",
    "        model='embed-english-v3.0',\n",
    "        input_type='search_document',\n",
    "        truncate='END'\n",
    "    ).embeddings\n",
    "    return embeds\n",
    "\n",
    "# Create embeddings\n",
    "embeds = embed(all_texts)"
   ]
  },
  {
   "cell_type": "code",
   "execution_count": 11,
   "metadata": {},
   "outputs": [
    {
     "name": "stdout",
     "output_type": "stream",
     "text": [
      "(24, 1024)\n"
     ]
    }
   ],
   "source": [
    "# check shape to create index dimension\n",
    "\n",
    "import numpy as np\n",
    "\n",
    "shape = np.array(embeds).shape\n",
    "print(shape)"
   ]
  },
  {
   "cell_type": "code",
   "execution_count": 12,
   "metadata": {},
   "outputs": [
    {
     "name": "stdout",
     "output_type": "stream",
     "text": [
      "{'dimension': 1024,\n",
      " 'index_fullness': 1e-05,\n",
      " 'namespaces': {'': {'vector_count': 1}},\n",
      " 'total_vector_count': 1}\n"
     ]
    }
   ],
   "source": [
    "# Uploading data in batches\n",
    "\n",
    "# Define the \"index\" variable here or make sure it is accessible in the current scope\n",
    "\n",
    "batch_size = 128\n",
    "\n",
    "ids = [str(i) for i in range(shape[0])]\n",
    "# create list of metadata dictionaries\n",
    "meta = [{'text': text} for text in all_texts]\n",
    "\n",
    "# create list of (id, vector, metadata) tuples to be upserted\n",
    "to_upsert = list(zip(ids, embeds, meta))\n",
    "\n",
    "for i in range(0, shape[0], batch_size):\n",
    "    i_end = min(i+batch_size, shape[0])\n",
    "    index.upsert(vectors=to_upsert[i:i_end])\n",
    "\n",
    "# let's view the index statistics\n",
    "print(index.describe_index_stats())"
   ]
  },
  {
   "cell_type": "code",
   "execution_count": 5,
   "metadata": {},
   "outputs": [],
   "source": [
    "embeddings = CohereEmbeddings(model=\"embed-english-v3.0\")\n",
    "vectorstore = Pinecone.from_existing_index(index_name=os.getenv('PINECONE_INDEX_NAME'), embedding=embeddings)\n",
    "retriever = vectorstore.as_retriever()"
   ]
  },
  {
   "cell_type": "code",
   "execution_count": 6,
   "metadata": {},
   "outputs": [],
   "source": [
    "# RAG prompt\n",
    "template = \"\"\"Answer the question based only on the following context:\n",
    "{context}\n",
    "Question: {question}\n",
    "\"\"\"\n",
    "prompt = ChatPromptTemplate.from_template(template)\n",
    "\n",
    "# RAG\n",
    "model = ChatOpenAI(temperature=0, model=\"gpt-4-1106-preview\")\n",
    "\n",
    "chain = (\n",
    "    RunnableParallel({\"context\": retriever, \"question\": RunnablePassthrough()})\n",
    "    | prompt\n",
    "    | model \n",
    "    | StrOutputParser()\n",
    ")"
   ]
  },
  {
   "cell_type": "code",
   "execution_count": 16,
   "metadata": {},
   "outputs": [
    {
     "data": {
      "text/plain": [
       "'Discrete'"
      ]
     },
     "execution_count": 16,
     "metadata": {},
     "output_type": "execute_result"
    }
   ],
   "source": [
    "chain.invoke(\"\"\"Are the hidden states of the Hidden Markov Model discrete or continuous?\n",
    "\n",
    "  Continuous \n",
    "  Could be either discrete or continuous \n",
    "  Discrete\"\"\")"
   ]
  },
  {
   "cell_type": "markdown",
   "metadata": {},
   "source": []
  }
 ],
 "metadata": {
  "kernelspec": {
   "display_name": "venv",
   "language": "python",
   "name": "python3"
  },
  "language_info": {
   "codemirror_mode": {
    "name": "ipython",
    "version": 3
   },
   "file_extension": ".py",
   "mimetype": "text/x-python",
   "name": "python",
   "nbconvert_exporter": "python",
   "pygments_lexer": "ipython3",
   "version": "3.11.6"
  }
 },
 "nbformat": 4,
 "nbformat_minor": 2
}
