{
 "cells": [
  {
   "cell_type": "code",
   "execution_count": 2,
   "metadata": {},
   "outputs": [
    {
     "name": "stderr",
     "output_type": "stream",
     "text": [
      "/Users/mohit/Documents/Code/Data Engineering/langchain-qa-sta5635/venv/lib/python3.11/site-packages/pinecone/data/index.py:1: TqdmWarning: IProgress not found. Please update jupyter and ipywidgets. See https://ipywidgets.readthedocs.io/en/stable/user_install.html\n",
      "  from tqdm.autonotebook import tqdm\n"
     ]
    }
   ],
   "source": [
    "# All the import statements\n",
    "import os\n",
    "import re\n",
    "import unicodedata\n",
    "import cohere\n",
    "from dotenv import load_dotenv\n",
    "\n",
    "import pinecone as pc\n",
    "from langchain.document_loaders import PyPDFLoader\n",
    "from langchain_community.embeddings import CohereEmbeddings\n",
    "from langchain_community.vectorstores import Pinecone\n",
    "from langchain_core.output_parsers import StrOutputParser\n",
    "from langchain_openai import ChatOpenAI\n",
    "from langchain_core.runnables import RunnableParallel, RunnablePassthrough, RunnableLambda\n",
    "from langchain.embeddings import OpenAIEmbeddings\n",
    "from langchain_core.prompts import ChatPromptTemplate\n",
    "from pinecone import Pinecone as PineconeClient"
   ]
  },
  {
   "cell_type": "code",
   "execution_count": 3,
   "metadata": {},
   "outputs": [],
   "source": [
    "# Loading all required clients \n",
    "load_dotenv()\n",
    "pinecone = PineconeClient(api_key=os.getenv('PINECONE_API_KEY'), environment=os.getenv('PINECONE_ENVIRONMENT'))\n",
    "co = cohere.Client(os.getenv(\"COHERE_API_KEY\"))\n",
    "index = pinecone.Index(os.getenv('PINECONE_INDEX_NAME'))"
   ]
  },
  {
   "cell_type": "code",
   "execution_count": 15,
   "metadata": {},
   "outputs": [],
   "source": [
    "# Extracting texts from pdfs\n",
    "\n",
    "# Reading pdfs\n",
    "def read_pdf(file_path):\n",
    "    loader = PyPDFLoader(file_path)\n",
    "    documents = loader.load_and_split()\n",
    "    return documents\n",
    "\n",
    "\n",
    "# Process pdfs\n",
    "def process_documents(documents):\n",
    "    doc_text = ''\n",
    "    for doc in documents:\n",
    "        text = doc.page_content\n",
    "        \n",
    "        # preprocess\n",
    "        text = clean_text(text)\n",
    "        doc_text += text\n",
    "    return doc_text\n",
    "\n",
    "# Preprocess the text\n",
    "def clean_text(text):\n",
    "    # Replace newline characters with spaces\n",
    "    text = text.replace('\\n', ' ')\n",
    "    # Remove unknown characters\n",
    "    text = ''.join(c for c in text if unicodedata.category(c) != 'Co')\n",
    "    # Remove extra whitespace\n",
    "    text = re.sub(r'\\s+', ' ', text).strip()\n",
    "    # Remove non-alphanumeric characters\n",
    "    text = re.sub(r'[^a-zA-Z0-9\\s]', '', text)\n",
    "    # Convert to lowercase\n",
    "    text = text.lower()\n",
    "    return text\n",
    "    \n",
    "\n",
    "\n",
    "# Load and process all PDF files in the the directory\n",
    "pdf_dir_path = \"pdfs/\"\n",
    "\n",
    "all_texts = []\n",
    "for filename in os.listdir(pdf_dir_path):\n",
    "    if filename.endswith(\".pdf\"):\n",
    "        file_path = os.path.join(pdf_dir_path, filename)\n",
    "        documents = read_pdf(file_path)\n",
    "        texts = process_documents(documents)\n",
    "        all_texts.append(texts)"
   ]
  },
  {
   "cell_type": "code",
   "execution_count": 16,
   "metadata": {},
   "outputs": [
    {
     "name": "stdout",
     "output_type": "stream",
     "text": [
      "1applied machine learning adrian barbu2syllabus textbooks machine learning by tom m mitchell publisher mcgraw hill pattern recognition and machine learning by christopher m bishop publisher springer the elements of statistical learning by t hastie r tibshirani and j h friedman publisher springer course materials cmu machine learning class httpwwwcscmueduepxingclass10701 tom michells ml book website httpwwwcscmuedutommlbookhtml nillsons ml book httpaistanfordedunilssonmlbookhtml canvas class websitepython course zoom recordings lecture 1 https fsuzoomusrecsharevowmxc2tj8anajnkzx3ysffebi4cfv90s6ofkkpxwjvfzfwvprta7g oeje4gkyuaqwbtudq7j5vcnsid lecture 2 httpsfsuzoomusrecsharev4evnqnpn4eojtrvun5fcdl  s5s8karo8xnvcb9u5ehbu qbot8u9fi82bv2y2zfz0obz63cfocnox lecture 3 https fsuzoomusrecshare0b2yxmqqbbei sk0catjiykxciayq3e0  kbkceu5xxtsdrpovl89sgvp6owa2aneybffsbpyrqi1xi lecture 4httpsfsuzoomusrecsharenvynbnmtkuyozpubfpijzgaj9jejmke2cazzmyx6k5dnf3lbpe zhkkfacz9cvcx0agp9nxfb8xw9tuuq jupyter notebooks httpsanistatfsueduabarbu1pythonbasicsipynb httpsanistatfsueduabarbu2stringsipynb httpsanistatfsueduabarbu3listssetsdictionariesipynb httpsanistatfsueduabarbu4numpyipynb httpsanistatfsueduabarbu5pandasipynb httpsanistatfsuedu abarbu6pytorchipynb httpsanistatfsueduabarbu7cnnipynb 34syllabus individual study students are supposed to read material before class i will go over some material and the material that students ask the will be quizzes to check on what students understood discussion sessions each class there will be a discussion session students are supposed to participate up to 3 extra bonus points for students that regularly participate in discussions5syllabus homework 12 projects each worth 9 points many datasets some projects will be applied to many datasets usually one week for each project best 10 projects will be considered for a total of max 90 points must be submitted online as pdf computer output should be kept to a minimum6syllabus code it is ok to obtain code from the web but appropriate references to the code website or paper should be made in the project quizzes weeklybiweekly quizzes each weeks quizzes worth 10 quiz points all quizzes worth 140 quiz points  14 grade points standard grading scheme see syllabus7machine learning theory and algorithms for representing or modeling classifying predicting clustering recognizing reasoning under uncertainty reacting or taking actions to complex real world phenomena or information using the systems experience and an explicit model that can be understood modified using human prior knowledge can work automatically without user interaction8definition learning algorithms given task t improve performance measure p with experience e well defined learning problem define task t choose performance measure pfor how far we are from the task specify how the experience eis obtained also of interest running time9text classification task given a text assign one or more category types based on contents news poetry scientific political  performance measure  correctly classified experience a dataset of texts and their labels supervised learning similar task without labels given unsupervised learning 10object detection task detect objects of interest  egfaces performance measure detection rate false positive rate experience a training set of images containing faces viola jones 2001 schneiderman  kanade 200011face detection design decisions type of training experience images with manually annotated faces  supervised  manually labeling data is expensive images with faces unsupervised mixture of both semi supervised amount of training experience data should be representative cover many posesilluminations cover face alterations beard glasses eye patch occlusions etc for good results need 10000 100000 faces12object recognition task given an image containing a face check if the face is similar to one from an existing database performance measure percentage correctly recognizederror rate experience dataset of 2d3d face images of persons of interest identix face recognition system13object segmentation task given an image find the object and its contour eg 3d ct heart segmentation performance measure average point to mesh distance experience a dataset of images annotated by experts eg 323 heart ct scans running time 1 sec1415bioinformatics predicting protein function from gene sequence protein shape folding its function training examples pairs of proteins and their folding finding genes related to cancer training examples dna sequence of people with a specific cancer type and of healthy people very good drugs against certain cancers mrpqapgslvdpnedel rmapwywgrisreeaks ilhgkpdgsflvrdals mkgeytltlmkdgqattcgatcgatcgatcgatcaggcgcgcta cgagcggcgaggacc tcatcatcgatcag dna sequence aminoacid sequence protein shape folding16other applications of machine learning optical character recognition ocr speech recognition outperforms all non learning based methods speaker dependent independent learn to drive an autonomous vehicle darpa grand challenge 2005 darpa urban challenge 2007 google self driving cars learning to play backgammon competitive with human world champions learning brain commands paralyzed people can move a cursor just by thinking about it17learning a target function problem setup the space of possible instances x eg all possible 21x21 pixel windows for face detection the space of possible function values y discrete for classification continuous for regression the space of allowable functions eg linear combinations of thresholded features experience a set of training examples learning find that best interpolates e18classification vs regression classification  discrete output it is important to find the correct class if its not correct it is wrong misclassification rate eg face recognition regression  continuous output it is important to predict the right value measure of the prediction error mean square error eg age regression age19learning a probability density function aka density estimation unsupervised learning experience a set of training examples learning find a probability density function pdf parametric pdf gaussian student t etc mixture models parameter estimation nonparametric pdf kernel density estimation density trees bayesian networks 8 6 4 2 0 2 4 6 886420246820conclusions supervised learningfunction approximation instance space x sample of labeled training data  xi yi hypothesis space y can be discrete for classification or real valued for regression learning is a searchoptimization problem over various objective functions minimize training error generalization power small error on data that was not used for training avoid overfitting21conclusions machine learning works very popular nowadays great impact in surveillance medical imaging social networks commerce and beyond faster computers  more difficult problems can be attacked many real time applications realtime face detection autonomous driving tunnel surveillance speech recognition many machine learning jobs google facebook apple tesla spacex etc\n"
     ]
    }
   ],
   "source": [
    "# Create embeddings\n",
    "def embed(text):\n",
    "    embeds = co.embed(\n",
    "        texts=text,\n",
    "        model='embed-english-v3.0',\n",
    "        input_type='search_document',\n",
    "        truncate='END'\n",
    "    ).embeddings\n",
    "    return embeds\n",
    "\n",
    "print(all_texts[0])\n",
    "embeds = embed(all_texts)"
   ]
  },
  {
   "cell_type": "code",
   "execution_count": 17,
   "metadata": {},
   "outputs": [
    {
     "name": "stdout",
     "output_type": "stream",
     "text": [
      "(1, 1024)\n"
     ]
    }
   ],
   "source": [
    "# check shape to create index dimension\n",
    "\n",
    "import numpy as np\n",
    "\n",
    "shape = np.array(embeds).shape\n",
    "print(shape)"
   ]
  },
  {
   "cell_type": "code",
   "execution_count": 18,
   "metadata": {},
   "outputs": [
    {
     "name": "stdout",
     "output_type": "stream",
     "text": [
      "{'dimension': 1024,\n",
      " 'index_fullness': 1e-05,\n",
      " 'namespaces': {'': {'vector_count': 1}},\n",
      " 'total_vector_count': 1}\n"
     ]
    }
   ],
   "source": [
    "# Uploading data in batches\n",
    "\n",
    "# Define the \"index\" variable here or make sure it is accessible in the current scope\n",
    "\n",
    "batch_size = 128\n",
    "\n",
    "ids = [str(i) for i in range(shape[0])]\n",
    "# create list of metadata dictionaries\n",
    "meta = [{'text': text} for text in all_texts]\n",
    "\n",
    "# create list of (id, vector, metadata) tuples to be upserted\n",
    "to_upsert = list(zip(ids, embeds, meta))\n",
    "\n",
    "for i in range(0, shape[0], batch_size):\n",
    "    i_end = min(i+batch_size, shape[0])\n",
    "    index.upsert(vectors=to_upsert[i:i_end])\n",
    "\n",
    "# let's view the index statistics\n",
    "print(index.describe_index_stats())"
   ]
  },
  {
   "cell_type": "code",
   "execution_count": 5,
   "metadata": {},
   "outputs": [],
   "source": [
    "embeddings = CohereEmbeddings(model=\"embed-english-v3.0\")\n",
    "vectorstore = Pinecone.from_existing_index(index_name=os.getenv('PINECONE_INDEX_NAME'), embedding=embeddings)\n",
    "retriever = vectorstore.as_retriever()"
   ]
  },
  {
   "cell_type": "code",
   "execution_count": 6,
   "metadata": {},
   "outputs": [],
   "source": [
    "# RAG prompt\n",
    "template = \"\"\"Answer the question based only on the following context:\n",
    "{context}\n",
    "Question: {question}\n",
    "\"\"\"\n",
    "prompt = ChatPromptTemplate.from_template(template)\n",
    "\n",
    "# RAG\n",
    "model = ChatOpenAI(temperature=0, model=\"gpt-4-1106-preview\")\n",
    "\n",
    "chain = (\n",
    "    RunnableParallel({\"context\": retriever, \"question\": RunnablePassthrough()})\n",
    "    | prompt\n",
    "    | model \n",
    "    | StrOutputParser()\n",
    ")"
   ]
  },
  {
   "cell_type": "code",
   "execution_count": 8,
   "metadata": {},
   "outputs": [
    {
     "data": {
      "text/plain": [
       "'The course is about applied machine learning. It covers machine learning theory and algorithms for tasks such as classifying, predicting, clustering, recognizing, reasoning under uncertainty, and reacting or taking actions based on complex real-world phenomena or information. The course utilizes systems that can work automatically without user interaction and involves learning algorithms that improve performance with experience. It includes practical aspects such as homework, projects, and quizzes, as well as discussion sessions to deepen understanding. The course also touches on various applications of machine learning, including text classification, object detection, face detection, object recognition, object segmentation, bioinformatics, and other areas like optical character recognition, speech recognition, autonomous vehicles, and learning from brain commands. Students are expected to participate in discussions, complete projects and quizzes, and engage with course materials such as textbooks, lecture recordings, and Jupyter notebooks.'"
      ]
     },
     "execution_count": 8,
     "metadata": {},
     "output_type": "execute_result"
    }
   ],
   "source": [
    "chain.invoke(\"what is the course about\")"
   ]
  },
  {
   "cell_type": "markdown",
   "metadata": {},
   "source": []
  }
 ],
 "metadata": {
  "kernelspec": {
   "display_name": "venv",
   "language": "python",
   "name": "python3"
  },
  "language_info": {
   "codemirror_mode": {
    "name": "ipython",
    "version": 3
   },
   "file_extension": ".py",
   "mimetype": "text/x-python",
   "name": "python",
   "nbconvert_exporter": "python",
   "pygments_lexer": "ipython3",
   "version": "3.11.6"
  }
 },
 "nbformat": 4,
 "nbformat_minor": 2
}
